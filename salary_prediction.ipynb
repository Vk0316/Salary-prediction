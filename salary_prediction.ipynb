{
  "nbformat": 4,
  "nbformat_minor": 0,
  "metadata": {
    "colab": {
      "provenance": [],
      "authorship_tag": "ABX9TyMBLhYv+EZGrFdPBG85AAzs",
      "include_colab_link": true
    },
    "kernelspec": {
      "name": "python3",
      "display_name": "Python 3"
    },
    "language_info": {
      "name": "python"
    }
  },
  "cells": [
    {
      "cell_type": "markdown",
      "metadata": {
        "id": "view-in-github",
        "colab_type": "text"
      },
      "source": [
        "<a href=\"https://colab.research.google.com/github/Vk0316/Salary-prediction/blob/main/salary_prediction.ipynb\" target=\"_parent\"><img src=\"https://colab.research.google.com/assets/colab-badge.svg\" alt=\"Open In Colab\"/></a>"
      ]
    },
    {
      "cell_type": "code",
      "execution_count": 4,
      "metadata": {
        "colab": {
          "base_uri": "https://localhost:8080/"
        },
        "id": "jF9dX5e3dwfk",
        "outputId": "74747791-23d5-4d7e-8bd2-c06e73239936"
      },
      "outputs": [
        {
          "output_type": "stream",
          "name": "stdout",
          "text": [
            "Logistic Regression Accuracy: 0.8569\n",
            "Random Forest Accuracy: 0.8602\n",
            "✅ Best model saved to best_salary_model.pkl\n",
            "✅ Preprocessing objects saved (encoder, scaler, label encoder)\n"
          ]
        }
      ],
      "source": [
        "import pandas as pd\n",
        "import numpy as np\n",
        "from sklearn.model_selection import train_test_split\n",
        "from sklearn.preprocessing import StandardScaler, OneHotEncoder, LabelEncoder\n",
        "from sklearn.ensemble import RandomForestClassifier\n",
        "from sklearn.linear_model import LogisticRegression\n",
        "from sklearn.metrics import accuracy_score\n",
        "import joblib\n",
        "\n",
        "# Load dataset\n",
        "df = pd.read_csv(\"/content/adult 3 - adult 3.csv\") 
        "\n"
        "# Separate features and target\n",
        "X = df.drop(\"income\", axis=1)\n",
        "y = df[\"income\"]\n",
        "\n",
        "# Label encode the target 
        "label_encoder = LabelEncoder()\n",
        "y_encoded = label_encoder.fit_transform(y)\n",
        "\n",
        "# Identify categorical and numerical columns\n",
        "categorical_cols = X.select_dtypes(include=\"object\").columns.tolist()\n",
        "numerical_cols = X.select_dtypes(exclude=\"object\").columns.tolist()\n",
        "\n",
        "# One-hot encode categorical columns\n",
        "ohe = OneHotEncoder(handle_unknown=\"ignore\") 
        "X_cat = pd.DataFrame(ohe.fit_transform(X[categorical_cols]).toarray()
        "X_cat.columns = ohe.get_feature_names_out(categorical_cols)\n",
        "X_cat.index = X.index\n",
        "\n",
        "# Scale numerical columns\n",
        "scaler = StandardScaler()\n",
        "X_num = pd.DataFrame(scaler.fit_transform(X[numerical_cols]), columns=numerical_cols, index=X.index)\n",
        "\n",
        "# Combine numerical and categorical features\n",
        "X_processed = pd.concat([X_num, X_cat], axis=1)\n",
        "\n",
        "# train and test\n",
        "X_train, X_test, y_train, y_test = train_test_split(X_processed, y_encoded, test_size=0.2, random_state=42)\n",
        "\n",
        "# Train Logistic Regression\n",
        "log_model = LogisticRegression(max_iter=1000)\n",
        "log_model.fit(X_train, y_train)\n",
        "log_pred = log_model.predict(X_test)\n",
        "log_acc = accuracy_score(y_test, log_pred)\n",
        "print(f\"Logistic Regression Accuracy: {log_acc:.4f}\")\n",
        "\n",
        "# Train Random Forest\n",
        "rf_model = RandomForestClassifier(random_state=42)\n",
        "rf_model.fit(X_train, y_train)\n",
        "rf_pred = rf_model.predict(X_test)\n",
        "rf_acc = accuracy_score(y_test, rf_pred)\n",
        "print(f\"Random Forest Accuracy: {rf_acc:.4f}\")\n",
        "\n",
        "#Choose the best model\n",
        "best_model = rf_model if rf_acc > log_acc else log_model\n",
        "joblib.dump(best_model, \"best_salary_model.pkl\")\n",
        "print(\"✅ Best model saved to best_salary_model.pkl\")\n",
        "\n",
        "#Save encoders and scaler",
        "joblib.dump(ohe, \"encoder.pkl\")\n",
        "joblib.dump(scaler, \"scaler.pkl\")\n",
        "joblib.dump(label_encoder, \"label_encoder.pkl\")\n",
        "print(\"✅ Preprocessing objects saved (encoder, scaler, label encoder)\")"
      ]
    },
    {
      "cell_type": "code",
      "source": [
        "%pip install streamlit"
      ],
      "metadata": {
        "colab": {
          "base_uri": "https://localhost:8080/"
        },
        "id": "gOJv296iegeR",
        "outputId": "f48bc750-94fe-4ac4-ebd4-3bb80bb4fec9"
      },
      "execution_count": 4,
      "outputs": [
        {
          "output_type": "stream",
          "name": "stdout",
          "text": [
            "Collecting streamlit\n",
            "  Downloading streamlit-1.47.0-py3-none-any.whl.metadata (9.0 kB)\n",
            "Requirement already satisfied: altair<6,>=4.0 in /usr/local/lib/python3.11/dist-packages (from streamlit) (5.5.0)\n",
            "Requirement already satisfied: blinker<2,>=1.5.0 in /usr/local/lib/python3.11/dist-packages (from streamlit) (1.9.0)\n",
            "Requirement already satisfied: cachetools<7,>=4.0 in /usr/local/lib/python3.11/dist-packages (from streamlit) (5.5.2)\n",
            "Requirement already satisfied: click<9,>=7.0 in /usr/local/lib/python3.11/dist-packages (from streamlit) (8.2.1)\n",
            "Requirement already satisfied: numpy<3,>=1.23 in /usr/local/lib/python3.11/dist-packages (from streamlit) (2.0.2)\n",
            "Requirement already satisfied: packaging<26,>=20 in /usr/local/lib/python3.11/dist-packages (from streamlit) (25.0)\n",
            "Requirement already satisfied: pandas<3,>=1.4.0 in /usr/local/lib/python3.11/dist-packages (from streamlit) (2.2.2)\n",
            "Requirement already satisfied: pillow<12,>=7.1.0 in /usr/local/lib/python3.11/dist-packages (from streamlit) (11.2.1)\n",
            "Requirement already satisfied: protobuf<7,>=3.20 in /usr/local/lib/python3.11/dist-packages (from streamlit) (5.29.5)\n",
            "Requirement already satisfied: pyarrow>=7.0 in /usr/local/lib/python3.11/dist-packages (from streamlit) (18.1.0)\n",
            "Requirement already satisfied: requests<3,>=2.27 in /usr/local/lib/python3.11/dist-packages (from streamlit) (2.32.3)\n",
            "Requirement already satisfied: tenacity<10,>=8.1.0 in /usr/local/lib/python3.11/dist-packages (from streamlit) (8.5.0)\n",
            "Requirement already satisfied: toml<2,>=0.10.1 in /usr/local/lib/python3.11/dist-packages (from streamlit) (0.10.2)\n",
            "Requirement already satisfied: typing-extensions<5,>=4.4.0 in /usr/local/lib/python3.11/dist-packages (from streamlit) (4.14.1)\n",
            "Collecting watchdog<7,>=2.1.5 (from streamlit)\n",
            "  Downloading watchdog-6.0.0-py3-none-manylinux2014_x86_64.whl.metadata (44 kB)\n",
            "\u001b[2K     \u001b[90m━━━━━━━━━━━━━━━━━━━━━━━━━━━━━━━━━━━━━━━\u001b[0m \u001b[32m44.3/44.3 kB\u001b[0m \u001b[31m361.4 kB/s\u001b[0m eta \u001b[36m0:00:00\u001b[0m\n",
            "\u001b[?25hRequirement already satisfied: gitpython!=3.1.19,<4,>=3.0.7 in /usr/local/lib/python3.11/dist-packages (from streamlit) (3.1.44)\n",
            "Collecting pydeck<1,>=0.8.0b4 (from streamlit)\n",
            "  Downloading pydeck-0.9.1-py2.py3-none-any.whl.metadata (4.1 kB)\n",
            "Requirement already satisfied: tornado!=6.5.0,<7,>=6.0.3 in /usr/local/lib/python3.11/dist-packages (from streamlit) (6.4.2)\n",
            "Requirement already satisfied: jinja2 in /usr/local/lib/python3.11/dist-packages (from altair<6,>=4.0->streamlit) (3.1.6)\n",
            "Requirement already satisfied: jsonschema>=3.0 in /usr/local/lib/python3.11/dist-packages (from altair<6,>=4.0->streamlit) (4.24.0)\n",
            "Requirement already satisfied: narwhals>=1.14.2 in /usr/local/lib/python3.11/dist-packages (from altair<6,>=4.0->streamlit) (1.47.0)\n",
            "Requirement already satisfied: gitdb<5,>=4.0.1 in /usr/local/lib/python3.11/dist-packages (from gitpython!=3.1.19,<4,>=3.0.7->streamlit) (4.0.12)\n",
            "Requirement already satisfied: python-dateutil>=2.8.2 in /usr/local/lib/python3.11/dist-packages (from pandas<3,>=1.4.0->streamlit) (2.9.0.post0)\n",
            "Requirement already satisfied: pytz>=2020.1 in /usr/local/lib/python3.11/dist-packages (from pandas<3,>=1.4.0->streamlit) (2025.2)\n",
            "Requirement already satisfied: tzdata>=2022.7 in /usr/local/lib/python3.11/dist-packages (from pandas<3,>=1.4.0->streamlit) (2025.2)\n",
            "Requirement already satisfied: charset-normalizer<4,>=2 in /usr/local/lib/python3.11/dist-packages (from requests<3,>=2.27->streamlit) (3.4.2)\n",
            "Requirement already satisfied: idna<4,>=2.5 in /usr/local/lib/python3.11/dist-packages (from requests<3,>=2.27->streamlit) (3.10)\n",
            "Requirement already satisfied: urllib3<3,>=1.21.1 in /usr/local/lib/python3.11/dist-packages (from requests<3,>=2.27->streamlit) (2.4.0)\n",
            "Requirement already satisfied: certifi>=2017.4.17 in /usr/local/lib/python3.11/dist-packages (from requests<3,>=2.27->streamlit) (2025.7.14)\n",
            "Requirement already satisfied: smmap<6,>=3.0.1 in /usr/local/lib/python3.11/dist-packages (from gitdb<5,>=4.0.1->gitpython!=3.1.19,<4,>=3.0.7->streamlit) (5.0.2)\n",
            "Requirement already satisfied: MarkupSafe>=2.0 in /usr/local/lib/python3.11/dist-packages (from jinja2->altair<6,>=4.0->streamlit) (3.0.2)\n",
            "Requirement already satisfied: attrs>=22.2.0 in /usr/local/lib/python3.11/dist-packages (from jsonschema>=3.0->altair<6,>=4.0->streamlit) (25.3.0)\n",
            "Requirement already satisfied: jsonschema-specifications>=2023.03.6 in /usr/local/lib/python3.11/dist-packages (from jsonschema>=3.0->altair<6,>=4.0->streamlit) (2025.4.1)\n",
            "Requirement already satisfied: referencing>=0.28.4 in /usr/local/lib/python3.11/dist-packages (from jsonschema>=3.0->altair<6,>=4.0->streamlit) (0.36.2)\n",
            "Requirement already satisfied: rpds-py>=0.7.1 in /usr/local/lib/python3.11/dist-packages (from jsonschema>=3.0->altair<6,>=4.0->streamlit) (0.26.0)\n",
            "Requirement already satisfied: six>=1.5 in /usr/local/lib/python3.11/dist-packages (from python-dateutil>=2.8.2->pandas<3,>=1.4.0->streamlit) (1.17.0)\n",
            "Downloading streamlit-1.47.0-py3-none-any.whl (9.9 MB)\n",
            "\u001b[2K   \u001b[90m━━━━━━━━━━━━━━━━━━━━━━━━━━━━━━━━━━━━━━━━\u001b[0m \u001b[32m9.9/9.9 MB\u001b[0m \u001b[31m15.7 MB/s\u001b[0m eta \u001b[36m0:00:00\u001b[0m\n",
            "\u001b[?25hDownloading pydeck-0.9.1-py2.py3-none-any.whl (6.9 MB)\n",
            "\u001b[2K   \u001b[90m━━━━━━━━━━━━━━━━━━━━━━━━━━━━━━━━━━━━━━━━\u001b[0m \u001b[32m6.9/6.9 MB\u001b[0m \u001b[31m34.9 MB/s\u001b[0m eta \u001b[36m0:00:00\u001b[0m\n",
            "\u001b[?25hDownloading watchdog-6.0.0-py3-none-manylinux2014_x86_64.whl (79 kB)\n",
            "\u001b[2K   \u001b[90m━━━━━━━━━━━━━━━━━━━━━━━━━━━━━━━━━━━━━━━━\u001b[0m \u001b[32m79.1/79.1 kB\u001b[0m \u001b[31m6.7 MB/s\u001b[0m eta \u001b[36m0:00:00\u001b[0m\n",
            "\u001b[?25hInstalling collected packages: watchdog, pydeck, streamlit\n",
            "Successfully installed pydeck-0.9.1 streamlit-1.47.0 watchdog-6.0.0\n"
          ]
        }
      ]
    },
    {
      "cell_type": "code",
      "source": [
        "%%writefile app.py\n",
        "import streamlit as st\n",
        "import pandas as pd\n",
        "import numpy as np\n",
        "import joblib\n",
        "\n",
        "# Load saved model and preprocessing objects\n",
        "model = joblib.load(\"best_salary_model.pkl\")\n",
        "encoder = joblib.load(\"encoder.pkl\")\n",
        "scaler = joblib.load(\"scaler.pkl\")\n",
        "label_encoder = joblib.load(\"label_encoder.pkl\")\n",
        "\n",
        "# Define categorical and numerical columns\n",
        "categorical_cols = ['workclass', 'education', 'marital-status', 'occupation', 'relationship', 'race', 'gender', 'native-country']\n",
        "numerical_cols = ['age', 'fnlwgt', 'educational-num', 'capital-gain', 'capital-loss', 'hours-per-week']\n",
        "\n",
        "st.set_page_config(page_title=\"Salary Predictor\", layout=\"centered\")\n",
        "st.title(\"💼 Salary Prediction App\")\n",
        "st.markdown(\"Enter your details below to predict whether your income is likely to be above or below **50K USD**.\")\n",
        "\n",
        "#Numeric Inputs\n",
        "st.header(\"🔢 Numeric Information\")\n",
        "age = st.slider(\"Age\", min_value=18, max_value=100, value=30)\n",
        "fnlwgt = st.number_input(\"FNLWGT\", min_value=10000, max_value=1000000, value=200000, step=1000)\n",
        "educational_num = st.slider(\"Education Number\", min_value=1, max_value=20, value=10)\n",
        "capital_gain = st.number_input(\"Capital Gain\", min_value=0, max_value=100000, value=0, step=100)\n",
        "capital_loss = st.number_input(\"Capital Loss\", min_value=0, max_value=5000, value=0, step=50)\n",
        "hours_per_week = st.slider(\"Hours per Week\", min_value=1, max_value=100, value=40)\n",
        "\n",
        "# Categorical Inputs\n",
        "st.header(\"📋 Categorical Information\")\n",
        "workclass = st.selectbox(\"Workclass\", ['Private', 'Self-emp-not-inc', 'Self-emp-inc', 'Federal-gov', 'Local-gov',\n",
        "                                       'State-gov', 'Without-pay', 'Never-worked'])\n",
        "education = st.selectbox(\"Education\", ['Bachelors', 'HS-grad', '11th', 'Masters', '9th', 'Some-college',\n",
        "                                       'Assoc-acdm', 'Assoc-voc', '7th-8th', 'Doctorate', 'Prof-school', '5th-6th'])\n",
        "marital_status = st.selectbox(\"Marital Status\", ['Married-civ-spouse', 'Divorced', 'Never-married', 'Separated',\n",
        "                                                 'Widowed', 'Married-spouse-absent'])\n",
        "occupation = st.selectbox(\"Occupation\", ['Tech-support', 'Craft-repair', 'Other-service', 'Sales', 'Exec-managerial',\n",
        "                                         'Prof-specialty', 'Handlers-cleaners', 'Machine-op-inspct', 'Adm-clerical',\n",
        "                                         'Farming-fishing', 'Transport-moving', 'Priv-house-serv', 'Protective-serv', 'Armed-Forces'])\n",
        "relationship = st.selectbox(\"Relationship\", ['Wife', 'Own-child', 'Husband', 'Not-in-family', 'Other-relative', 'Unmarried'])\n",
        "race = st.selectbox(\"Race\", ['White', 'Asian-Pac-Islander', 'Amer-Indian-Eskimo', 'Other', 'Black'])\n",
        "gender = st.radio(\"Gender\", ['Male', 'Female'])\n",
        "native_country = st.selectbox(\"Native Country\", ['United-States', 'Mexico', 'Philippines', 'Germany', 'Canada', 'India', 'England', 'China'])\n",
        "\n",
        "#Prediction\n",
        "if st.button(\"🚀 Predict Salary\"):\n",
        "    input_dict = {\n",
        "        'age': age,\n",
        "        'fnlwgt': fnlwgt,\n",
        "        'educational-num': educational_num,\n",
        "        'capital-gain': capital_gain,\n",
        "        'capital-loss': capital_loss,\n",
        "        'hours-per-week': hours_per_week,\n",
        "        'workclass': workclass,\n",
        "        'education': education,\n",
        "        'marital-status': marital_status,\n",
        "        'occupation': occupation,\n",
        "        'relationship': relationship,\n",
        "        'race': race,\n",
        "        'gender': gender,\n",
        "        'native-country': native_country\n",
        "    }\n",
        "\n",
        "    st.subheader(\"📝 Input Summary\")\n",
        "    st.json(input_dict)\n",
        "\n",
        "    input_df = pd.DataFrame([input_dict])\n",
        "\n",
        "    # Preprocess\n",
        "    X_num = pd.DataFrame(scaler.transform(input_df[numerical_cols]), columns=numerical_cols)\n",
        "    X_cat_array = encoder.transform(input_df[categorical_cols])\n",
        "    if hasattr(X_cat_array, \"toarray\"):\n",
        "        X_cat_array = X_cat_array.toarray()\n",
        "    X_cat = pd.DataFrame(X_cat_array, columns=encoder.get_feature_names_out(categorical_cols))\n",
        "\n",
        "    X_final = pd.concat([X_num, X_cat], axis=1)\n",
        "\n",
        "    prediction = model.predict(X_final)[0]\n",
        "    salary_label = label_encoder.inverse_transform([prediction])[0]\n",
        "\n",
        "    st.subheader(\"💡 Prediction Result\")\n",
        "    if salary_label == \"<=50K\":\n",
        "        st.success(\"🧾 The predicted salary is **less than or equal to 50K USD**.\")\n",
        "    else:\n",
        "        st.success(\"💰 The predicted salary is **greater than 50K USD**.\")\n"
      ],
      "metadata": {
        "colab": {
          "base_uri": "https://localhost:8080/"
        },
        "id": "5A9SIK7-eOcY",
        "outputId": "dc6d16a0-323a-4a61-db9e-f0c946317dd6"
      },
      "execution_count": 11,
      "outputs": [
        {
          "output_type": "stream",
          "name": "stdout",
          "text": [
            "Overwriting app.py\n"
          ]
        }
      ]
    },
    {
      "cell_type": "code",
      "source": [
        "!pip install streamlit pyngrok --quiet"
      ],
      "metadata": {
        "colab": {
          "base_uri": "https://localhost:8080/"
        },
        "id": "Alvx9VZcemDp",
        "outputId": "f0bf2073-76ef-46cf-cc6a-f7c0a546f3eb"
      },
      "execution_count": 8,
      "outputs": [
        {
          "output_type": "stream",
          "name": "stdout",
          "text": [
            "\u001b[2K     \u001b[90m━━━━━━━━━━━━━━━━━━━━━━━━━━━━━━━━━━━━━━━━\u001b[0m \u001b[32m44.3/44.3 kB\u001b[0m \u001b[31m2.4 MB/s\u001b[0m eta \u001b[36m0:00:00\u001b[0m\n",
            "\u001b[2K   \u001b[90m━━━━━━━━━━━━━━━━━━━━━━━━━━━━━━━━━━━━━━━━\u001b[0m \u001b[32m9.9/9.9 MB\u001b[0m \u001b[31m68.1 MB/s\u001b[0m eta \u001b[36m0:00:00\u001b[0m\n",
            "\u001b[2K   \u001b[90m━━━━━━━━━━━━━━━━━━━━━━━━━━━━━━━━━━━━━━━━\u001b[0m \u001b[32m6.9/6.9 MB\u001b[0m \u001b[31m80.0 MB/s\u001b[0m eta \u001b[36m0:00:00\u001b[0m\n",
            "\u001b[2K   \u001b[90m━━━━━━━━━━━━━━━━━━━━━━━━━━━━━━━━━━━━━━━━\u001b[0m \u001b[32m79.1/79.1 kB\u001b[0m \u001b[31m5.3 MB/s\u001b[0m eta \u001b[36m0:00:00\u001b[0m\n",
            "\u001b[?25h"
          ]
        }
      ]
    },
    {
      "cell_type": "code",
      "source": [
        "!ngrok config add-authtoken 30BfBgC70gifTj6tD8D5SBFpjAd_6TmEi2R4VZCYBqvLeuTa"
      ],
      "metadata": {
        "colab": {
          "base_uri": "https://localhost:8080/"
        },
        "id": "PIvum0lhetrO",
        "outputId": "1e6ce4a8-1155-4d2b-f192-e89eed7d4444"
      },
      "execution_count": 9,
      "outputs": [
        {
          "output_type": "stream",
          "name": "stdout",
          "text": [
            "Authtoken saved to configuration file: /root/.config/ngrok/ngrok.yml\n"
          ]
        }
      ]
    },
    {
      "cell_type": "code",
      "source": [
        "\n",
        "from pyngrok import ngrok\n",
        "\n",
        "# Kill any existing ngrok or streamlit processes\n",
        "!pkill ngrok\n",
        "!pkill streamlit\n",
        "\n",
        "# Run the Streamlit app in background\n",
        "!streamlit run app.py &>/content/log.txt &\n",
        "\n",
        "# Connect ngrok to the running streamlit app\n",
        "public_url = ngrok.connect(addr=8501)\n",
        "print(\"🚀 Your Streamlit app is live at:\", public_url)\n"
      ],
      "metadata": {
        "colab": {
          "base_uri": "https://localhost:8080/"
        },
        "id": "Kr23NPfrewZC",
        "outputId": "508be59a-acf3-455d-e56b-0f11ad8fd8ee"
      },
      "execution_count": 13,
      "outputs": [
        {
          "output_type": "stream",
          "name": "stdout",
          "text": [
            "🚀 Your Streamlit app is live at: NgrokTunnel: \"https://cbb2e8a3eb51.ngrok-free.app\" -> \"http://localhost:8501\"\n"
          ]
        }
      ]
    }
  ]
}
